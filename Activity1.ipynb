{
  "nbformat": 4,
  "nbformat_minor": 0,
  "metadata": {
    "colab": {
      "provenance": [],
      "authorship_tag": "ABX9TyPyB7TTXSgZJzkAlp3M1gmp",
      "include_colab_link": true
    },
    "kernelspec": {
      "name": "python3",
      "display_name": "Python 3"
    },
    "language_info": {
      "name": "python"
    }
  },
  "cells": [
    {
      "cell_type": "markdown",
      "metadata": {
        "id": "view-in-github",
        "colab_type": "text"
      },
      "source": [
        "<a href=\"https://colab.research.google.com/github/Yuan-Hessed-Vasig/CPE-201L-CPE-2-B/blob/main/Activity1.ipynb\" target=\"_parent\"><img src=\"https://colab.research.google.com/assets/colab-badge.svg\" alt=\"Open In Colab\"/></a>"
      ]
    },
    {
      "cell_type": "markdown",
      "source": [
        "ALGORITHM 1"
      ],
      "metadata": {
        "id": "T1fUj5L1asTS"
      }
    },
    {
      "cell_type": "code",
      "execution_count": 10,
      "metadata": {
        "colab": {
          "base_uri": "https://localhost:8080/"
        },
        "id": "Hb1-FMCyYET9",
        "outputId": "822fddbc-d7c3-4ee0-8a6b-7e6b2ae2ba29"
      },
      "outputs": [
        {
          "output_type": "stream",
          "name": "stdout",
          "text": [
            "Enter the radius of the circle(cm): 9\n",
            "The area of the circle with radius 9.0 is 254.47 cm\n"
          ]
        }
      ],
      "source": [
        "import math\n",
        "\n",
        "pi = math.pi\n",
        "\n",
        "radius = float(input(\"Enter the radius of the circle(cm): \"))\n",
        "area = pi * radius * radius\n",
        "\n",
        "print(f\"The area of the circle with radius {radius} is {area:.2f} cm\")"
      ]
    },
    {
      "cell_type": "code",
      "source": [
        "ALGORITHM 2"
      ],
      "metadata": {
        "id": "4LNcjSZ-au4I"
      },
      "execution_count": null,
      "outputs": []
    },
    {
      "cell_type": "code",
      "source": [
        "import math\n",
        "\n",
        "pi = math.pi\n",
        "\n",
        "diameter = float(input(\"Enter the diameter of the circle(cm): \"))\n",
        "area = pi * (diameter/2) ** 2\n",
        "\n",
        "print(f\"The area of the circle with diameter {diameter} is {area:.2f} cm\")"
      ],
      "metadata": {
        "colab": {
          "base_uri": "https://localhost:8080/"
        },
        "id": "5Hy25G72cx5S",
        "outputId": "689c9f6c-1a70-474d-9821-b206a0befec4"
      },
      "execution_count": 18,
      "outputs": [
        {
          "output_type": "stream",
          "name": "stdout",
          "text": [
            "Enter the diameter of the circle(cm): 18\n",
            "The area of the circle with diameter 18.0 is 254.47 cm\n"
          ]
        }
      ]
    }
  ]
}