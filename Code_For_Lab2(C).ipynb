{
  "nbformat": 4,
  "nbformat_minor": 0,
  "metadata": {
    "colab": {
      "provenance": [],
      "authorship_tag": "ABX9TyONjnT6em5Dl08x9rHZ+7ng",
      "include_colab_link": true
    },
    "kernelspec": {
      "name": "python3",
      "display_name": "Python 3"
    },
    "language_info": {
      "name": "python"
    }
  },
  "cells": [
    {
      "cell_type": "markdown",
      "metadata": {
        "id": "view-in-github",
        "colab_type": "text"
      },
      "source": [
        "<a href=\"https://colab.research.google.com/github/Yuan-Hessed-Vasig/CPE-201L-CPE-2-B/blob/main/Code_For_Lab2(C).ipynb\" target=\"_parent\"><img src=\"https://colab.research.google.com/assets/colab-badge.svg\" alt=\"Open In Colab\"/></a>"
      ]
    },
    {
      "cell_type": "code",
      "execution_count": 2,
      "metadata": {
        "colab": {
          "base_uri": "https://localhost:8080/"
        },
        "id": "6a9Wzv1F6Flg",
        "outputId": "c9402eb0-8bee-4241-a078-92a51e5d6330"
      },
      "outputs": [
        {
          "output_type": "stream",
          "name": "stdout",
          "text": [
            "(0, 9)\n"
          ]
        }
      ],
      "source": [
        "def find(seq):\n",
        "    if len(seq) == 1:\n",
        "        return seq[0], seq[0]\n",
        "    else:\n",
        "        sub_min, sub_max = find(seq[1:])\n",
        "        return (seq[0] if seq[0] < sub_min else sub_min,\n",
        "                seq[0] if seq[0] > sub_max else sub_max)\n",
        "\n",
        "\n",
        "nums = [3, 1, 7, 0, 5, 9]\n",
        "print(find(nums))"
      ]
    }
  ]
}