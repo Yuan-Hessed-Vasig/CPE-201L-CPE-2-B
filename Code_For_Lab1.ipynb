{
  "nbformat": 4,
  "nbformat_minor": 0,
  "metadata": {
    "colab": {
      "provenance": [],
      "authorship_tag": "ABX9TyORFfQUhVZxU8E9o5RaFiz8",
      "include_colab_link": true
    },
    "kernelspec": {
      "name": "python3",
      "display_name": "Python 3"
    },
    "language_info": {
      "name": "python"
    }
  },
  "cells": [
    {
      "cell_type": "markdown",
      "metadata": {
        "id": "view-in-github",
        "colab_type": "text"
      },
      "source": [
        "<a href=\"https://colab.research.google.com/github/Yuan-Hessed-Vasig/CPE-201L-CPE-2-B/blob/main/Code_For_Lab1.ipynb\" target=\"_parent\"><img src=\"https://colab.research.google.com/assets/colab-badge.svg\" alt=\"Open In Colab\"/></a>"
      ]
    },
    {
      "cell_type": "code",
      "execution_count": null,
      "metadata": {
        "id": "ZBTSmEuafc0C"
      },
      "outputs": [],
      "source": [
        "class Polygons:\n",
        "    def __init__(self, name: str, sides: int, area: float):\n",
        "        # Initialize instance variables\n",
        "        self.__name = name\n",
        "        self.__sides = sides\n",
        "        self.__area = area\n",
        "\n",
        "    # Setter methods\n",
        "    def set_name(self, name: str):\n",
        "        self.__name = name\n",
        "\n",
        "    def set_sides(self, sides: int):\n",
        "        if sides > 2:  # A polygon must have at least 3 sides\n",
        "            self.__sides = sides\n",
        "        else:\n",
        "            raise ValueError(\"A polygon must have at least 3 sides.\")\n",
        "\n",
        "    def set_area(self, area: float):\n",
        "        if area > 0:\n",
        "            self.__area = area\n",
        "        else:\n",
        "            raise ValueError(\"Area must be positive.\")\n",
        "\n",
        "    # Getter methods\n",
        "    def get_name(self) -> str:\n",
        "        return self.__name\n",
        "\n",
        "    def get_sides(self) -> int:\n",
        "        return self.__sides\n",
        "\n",
        "    def get_area(self) -> float:\n",
        "        return self.__area\n",
        "\n",
        "\n",
        "# Example usage:\n",
        "polygon = Polygons(\"Triangle\", 3, 15.5)\n",
        "\n",
        "print(\"Polygon Name:\", polygon.get_name())\n",
        "print(\"Number of Sides:\", polygon.get_sides())\n",
        "print(\"Area:\", polygon.get_area())\n",
        "\n"
      ]
    },
    {
      "cell_type": "code",
      "source": [
        "class Polygons:\n",
        "    def __init__(self, name: str, sides: int, area: float):\n",
        "        # Initialize instance variables\n",
        "        self.__name = name\n",
        "        self.__sides = sides\n",
        "        self.__area = area\n",
        "\n",
        "    # Setter methods\n",
        "    def set_name(self, name: str):\n",
        "        self.__name = name\n",
        "\n",
        "    def set_sides(self, sides: int):\n",
        "        if sides > 2:  # A polygon must have at least 3 sides\n",
        "            self.__sides = sides\n",
        "        else:\n",
        "            raise ValueError(\"A polygon must have at least 3 sides.\")\n",
        "\n",
        "    def set_area(self, area: float):\n",
        "        if area > 0:\n",
        "            self.__area = area\n",
        "        else:\n",
        "            raise ValueError(\"Area must be positive.\")\n",
        "\n",
        "    # Getter methods\n",
        "    def get_name(self) -> str:\n",
        "        return self.__name\n",
        "\n",
        "    def get_sides(self) -> int:\n",
        "        return self.__sides\n",
        "\n",
        "    def get_area(self) -> float:\n",
        "        return self.__area\n",
        "\n",
        "\n",
        "# Example usage:\n",
        "polygon = Polygons(\"Triangle\", 3, 15.5)\n",
        "\n",
        "print(\"Polygon Name:\", polygon.get_name())\n",
        "print(\"Number of Sides:\", polygon.get_sides())\n",
        "print(\"Area:\", polygon.get_area())\n",
        "\n"
      ],
      "metadata": {
        "id": "piGnGzzJhKeP",
        "colab": {
          "base_uri": "https://localhost:8080/"
        },
        "outputId": "0ebe94cc-2b77-4bb6-f6ce-6a60f01d2bf8"
      },
      "execution_count": 1,
      "outputs": [
        {
          "output_type": "stream",
          "name": "stdout",
          "text": [
            "Polygon Name: Triangle\n",
            "Number of Sides: 3\n",
            "Area: 15.5\n"
          ]
        }
      ]
    }
  ]
}