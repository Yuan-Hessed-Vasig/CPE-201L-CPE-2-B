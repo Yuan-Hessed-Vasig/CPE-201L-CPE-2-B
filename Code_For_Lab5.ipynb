{
  "nbformat": 4,
  "nbformat_minor": 0,
  "metadata": {
    "colab": {
      "provenance": [],
      "toc_visible": true,
      "authorship_tag": "ABX9TyMvimuKg8gNiPmXWQVMMJGY",
      "include_colab_link": true
    },
    "kernelspec": {
      "name": "python3",
      "display_name": "Python 3"
    },
    "language_info": {
      "name": "python"
    }
  },
  "cells": [
    {
      "cell_type": "markdown",
      "metadata": {
        "id": "view-in-github",
        "colab_type": "text"
      },
      "source": [
        "<a href=\"https://colab.research.google.com/github/Yuan-Hessed-Vasig/CPE-201L-CPE-2-B/blob/main/Code_For_Lab5.ipynb\" target=\"_parent\"><img src=\"https://colab.research.google.com/assets/colab-badge.svg\" alt=\"Open In Colab\"/></a>"
      ]
    },
    {
      "cell_type": "markdown",
      "source": [
        "# No. 1"
      ],
      "metadata": {
        "id": "3RU2H_gjAh9U"
      }
    },
    {
      "cell_type": "code",
      "execution_count": 1,
      "metadata": {
        "colab": {
          "base_uri": "https://localhost:8080/"
        },
        "id": "YgiHykE4AXBk",
        "outputId": "8f362789-2f32-4481-ca3f-c6d01a8af672"
      },
      "outputs": [
        {
          "output_type": "stream",
          "name": "stdout",
          "text": [
            "Array elements:\n",
            "1 2 3 4 5 6 7 8 9 10 \n",
            "\n",
            "Access by index:\n",
            "First element: 1\n",
            "Last element: 10\n",
            "\n",
            "Sum of array elements: 55\n"
          ]
        }
      ],
      "source": [
        "import array as arr\n",
        "\n",
        "\n",
        "numbers = arr.array('i', [1, 2, 3, 4, 5, 6, 7, 8, 9, 10])\n",
        "\n",
        "print(\"Array elements:\")\n",
        "for i in numbers:\n",
        "    print(i, end=\" \")\n",
        "\n",
        "\n",
        "print(\"\\n\\nAccess by index:\")\n",
        "print(\"First element:\", numbers[0])\n",
        "print(\"Last element:\", numbers[-1])\n",
        "\n",
        "\n",
        "print(\"\\nSum of array elements:\", sum(numbers))\n"
      ]
    },
    {
      "cell_type": "markdown",
      "source": [
        "# No. 2"
      ],
      "metadata": {
        "id": "-p_IAY-xAspP"
      }
    },
    {
      "cell_type": "code",
      "source": [
        "numbers = [1, 2, 3, 4, 5, 6, 7, 8, 9, 10]\n",
        "print(\"Original array:\", numbers)\n",
        "\n",
        "numbers.append(11)\n",
        "print(\"After appending 11:\", numbers)\n"
      ],
      "metadata": {
        "colab": {
          "base_uri": "https://localhost:8080/"
        },
        "id": "1Yp_yXXXAZCS",
        "outputId": "50c42d1a-0c50-4433-ba9c-f5c84632ab0b"
      },
      "execution_count": 2,
      "outputs": [
        {
          "output_type": "stream",
          "name": "stdout",
          "text": [
            "Original array: [1, 2, 3, 4, 5, 6, 7, 8, 9, 10]\n",
            "After appending 11: [1, 2, 3, 4, 5, 6, 7, 8, 9, 10, 11]\n"
          ]
        }
      ]
    },
    {
      "cell_type": "markdown",
      "source": [
        "# No. 3"
      ],
      "metadata": {
        "id": "pDdeaOH7AvZq"
      }
    },
    {
      "cell_type": "code",
      "source": [
        "numbers = [1, 2, 3, 4, 5, 6, 7, 8, 9, 10]\n",
        "print(\"Original array:\", numbers)\n",
        "\n",
        "numbers.insert(1, 120)  # Insert before index 1 (second element)\n",
        "print(\"After inserting 100 before second element:\", numbers)\n"
      ],
      "metadata": {
        "colab": {
          "base_uri": "https://localhost:8080/"
        },
        "id": "xaME7GolAblJ",
        "outputId": "9625c81d-2605-42a1-bdcb-d71c935a128c"
      },
      "execution_count": 11,
      "outputs": [
        {
          "output_type": "stream",
          "name": "stdout",
          "text": [
            "Original array: [1, 2, 3, 4, 5, 6, 7, 8, 9, 10]\n",
            "After inserting 100 before second element: [1, 120, 2, 3, 4, 5, 6, 7, 8, 9, 10]\n"
          ]
        }
      ]
    },
    {
      "cell_type": "markdown",
      "source": [
        "# No. 4"
      ],
      "metadata": {
        "id": "_DHEV_AZAxSs"
      }
    },
    {
      "cell_type": "code",
      "source": [
        "numbers = [5, 4, 3, 2, 1]\n",
        "print(\"Original array:\", numbers)\n",
        "\n",
        "numbers.reverse()\n",
        "print(\"Reversed array:\", numbers)\n"
      ],
      "metadata": {
        "colab": {
          "base_uri": "https://localhost:8080/"
        },
        "id": "Q2ZySTzfAdtV",
        "outputId": "ecaaa0b1-a788-4a9a-9993-e98a9be000a4"
      },
      "execution_count": 4,
      "outputs": [
        {
          "output_type": "stream",
          "name": "stdout",
          "text": [
            "Original array: [5, 4, 3, 2, 1]\n",
            "Reversed array: [1, 2, 3, 4, 5]\n"
          ]
        }
      ]
    },
    {
      "cell_type": "markdown",
      "source": [
        "# No. 5"
      ],
      "metadata": {
        "id": "3RMdtsmiAyzn"
      }
    },
    {
      "cell_type": "code",
      "source": [
        "numbers = [5, 4, 3, 2, 1]\n",
        "print(\"Original array:\", numbers)\n",
        "print(\"Length of Array:\", len(numbers))"
      ],
      "metadata": {
        "colab": {
          "base_uri": "https://localhost:8080/"
        },
        "id": "-SQofYgJAfm0",
        "outputId": "d6e918fe-8d8d-4911-9bbc-d494001cc181"
      },
      "execution_count": 10,
      "outputs": [
        {
          "output_type": "stream",
          "name": "stdout",
          "text": [
            "Original array: [5, 4, 3, 2, 1]\n",
            "Length of Array: 5\n"
          ]
        }
      ]
    }
  ]
}