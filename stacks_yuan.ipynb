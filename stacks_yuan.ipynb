{
  "nbformat": 4,
  "nbformat_minor": 0,
  "metadata": {
    "colab": {
      "provenance": [],
      "authorship_tag": "ABX9TyOdqsgHDMvXtgJ3XwYtvK66",
      "include_colab_link": true
    },
    "kernelspec": {
      "name": "python3",
      "display_name": "Python 3"
    },
    "language_info": {
      "name": "python"
    }
  },
  "cells": [
    {
      "cell_type": "markdown",
      "metadata": {
        "id": "view-in-github",
        "colab_type": "text"
      },
      "source": [
        "<a href=\"https://colab.research.google.com/github/Yuan-Hessed-Vasig/CPE-201L-CPE-2-B/blob/main/stacks_yuan.ipynb\" target=\"_parent\"><img src=\"https://colab.research.google.com/assets/colab-badge.svg\" alt=\"Open In Colab\"/></a>"
      ]
    },
    {
      "cell_type": "code",
      "execution_count": 1,
      "metadata": {
        "colab": {
          "base_uri": "https://localhost:8080/"
        },
        "id": "t5PxQur_Zm5Z",
        "outputId": "d8a07629-01a7-4368-f73f-16347fa1444f"
      },
      "outputs": [
        {
          "output_type": "stream",
          "name": "stdout",
          "text": [
            "6\n",
            "['Mon', 'Tue', 'Wed', 'Thu', 'Fri', 'Sat']\n"
          ]
        }
      ],
      "source": [
        "class Stack:\n",
        "    def __init__(self):\n",
        "        self.stack = []\n",
        "\n",
        "    def push(self, dataval):\n",
        "        # Use list append method to add element\n",
        "        if dataval not in self.stack:\n",
        "            self.stack.append(dataval)\n",
        "            return True\n",
        "        else:\n",
        "            return False\n",
        "\n",
        "    def pop(self):\n",
        "        # Remove and return the top element (last in first out)\n",
        "        if len(self.stack) <= 0:\n",
        "            return \"Stack is empty\"\n",
        "        else:\n",
        "            return self.stack.pop()\n",
        "\n",
        "    def len_checker(self):\n",
        "        if len(self.stack) <= 0:\n",
        "            print (\"Stack is empty\")\n",
        "        else:\n",
        "            print (len(self.stack))\n",
        "\n",
        "AStack = Stack()\n",
        "AStack.push(\"Mon\")\n",
        "AStack.push(\"Tue\")\n",
        "AStack.push(\"Wed\")\n",
        "AStack.push(\"Thu\")\n",
        "AStack.push(\"Fri\")\n",
        "AStack.push(\"Sat\")\n",
        "AStack.push(\"Sun\")\n",
        "\n",
        "AStack.pop()\n",
        "\n",
        "AStack.len_checker()\n",
        "\n",
        "print(AStack.stack)\n",
        "\n"
      ]
    },
    {
      "cell_type": "code",
      "source": [
        "AStack = Stack()\n",
        "AStack.push(\"Mon\")\n",
        "AStack.push(\"Tue\")\n",
        "AStack.push(\"Wed\")\n",
        "AStack.push(\"Thu\")\n",
        "AStack.push(\"Fri\")\n",
        "AStack.push(\"Sat\")\n",
        "AStack.push(\"Sun\")\n",
        "\n",
        "AStack.pop()\n",
        "AStack.pop()\n",
        "AStack.pop()\n",
        "AStack.pop()\n",
        "AStack.pop()\n",
        "AStack.pop()\n",
        "AStack.pop()\n",
        "\n",
        "AStack.len_checker()\n",
        "\n",
        "print(AStack.stack)\n"
      ],
      "metadata": {
        "colab": {
          "base_uri": "https://localhost:8080/"
        },
        "id": "-eydP53SZq3I",
        "outputId": "81781595-3f3f-42c9-e2b2-2c0c67f61abd"
      },
      "execution_count": 2,
      "outputs": [
        {
          "output_type": "stream",
          "name": "stdout",
          "text": [
            "Stack is empty\n",
            "[]\n"
          ]
        }
      ]
    }
  ]
}