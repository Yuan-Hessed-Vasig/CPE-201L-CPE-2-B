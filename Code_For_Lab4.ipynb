{
  "nbformat": 4,
  "nbformat_minor": 0,
  "metadata": {
    "colab": {
      "provenance": [],
      "authorship_tag": "ABX9TyMl3++B+MPwT8cPB1Frp4GX",
      "include_colab_link": true
    },
    "kernelspec": {
      "name": "python3",
      "display_name": "Python 3"
    },
    "language_info": {
      "name": "python"
    }
  },
  "cells": [
    {
      "cell_type": "markdown",
      "metadata": {
        "id": "view-in-github",
        "colab_type": "text"
      },
      "source": [
        "<a href=\"https://colab.research.google.com/github/Yuan-Hessed-Vasig/CPE-201L-CPE-2-B/blob/main/Code_For_Lab4.ipynb\" target=\"_parent\"><img src=\"https://colab.research.google.com/assets/colab-badge.svg\" alt=\"Open In Colab\"/></a>"
      ]
    },
    {
      "cell_type": "code",
      "execution_count": 43,
      "metadata": {
        "colab": {
          "base_uri": "https://localhost:8080/"
        },
        "id": "gSUYazUoM_1l",
        "outputId": "ade74d45-43b9-4b89-fd35-375e3ba891fa"
      },
      "outputs": [
        {
          "output_type": "stream",
          "name": "stdout",
          "text": [
            "--- Grocery List ---\n",
            "Apple - ₱ 10 × 7 = ₱ 70\n",
            "Banana - ₱ 10 × 8 = ₱ 80\n",
            "Broccoli - ₱ 60 × 12 = ₱ 720\n",
            "Lettuce - ₱ 50 × 10 = ₱ 500\n",
            "\n",
            "Total Cost: 1370\n",
            "\n",
            "--- Removing Lettuce ---\n",
            "\n",
            "--- Updated Grocery List ---\n",
            "Apple - ₱ 10 × 7 = ₱ 70\n",
            "Banana - ₱ 10 × 8 = ₱ 80\n",
            "Broccoli - ₱ 60 × 12 = ₱ 720\n",
            "\n",
            "Total Cost after removal: 870\n"
          ]
        }
      ],
      "source": [
        "# PROBLEM 1 SOLUTION\n",
        "class GroceryItem:\n",
        "    def __init__(self, name, price, quantity):\n",
        "        self.name = name\n",
        "        self.price = price\n",
        "        self.quantity = quantity\n",
        "\n",
        "    def __del__(self):\n",
        "        pass\n",
        "\n",
        "    def calculate_sum(self):\n",
        "        return self.price * self.quantity\n",
        "\n",
        "    def display(self):\n",
        "        print(f\"{self.name} - ₱ {self.price} × {self.quantity} = ₱ {self.calculate_sum()}\")\n",
        "\n",
        "    def __copy__(self):\n",
        "        return type(self)(self.name, self.price, self.quantity)\n",
        "\n",
        "    def copy_assign(self, other):\n",
        "        self.name = other.name\n",
        "        self.price = other.price\n",
        "        self.quantity = other.quantity\n",
        "\n",
        "class Fruit(GroceryItem):\n",
        "    pass\n",
        "\n",
        "class Vegetable(GroceryItem):\n",
        "    pass\n",
        "\n",
        "\n",
        "# PROBLEM 2\n",
        "GroceryList = [\n",
        "    Fruit(\"Apple\", 10, 7),\n",
        "    Fruit(\"Banana\", 10, 8),\n",
        "    Vegetable(\"Broccoli\", 60, 12),\n",
        "    Vegetable(\"Lettuce\", 50, 10)\n",
        "]\n",
        "\n",
        "print(\"--- Grocery List ---\")\n",
        "for item in GroceryList:\n",
        "    item.display()\n",
        "\n",
        "# PROBLEM 3\n",
        "def TotalSum(grocery_list):\n",
        "    total = sum(item.calculate_sum() for item in grocery_list)\n",
        "    return total\n",
        "\n",
        "print(\"\\nTotal Cost:\", TotalSum(GroceryList))\n",
        "\n",
        "\n",
        "# PROBLEM 4\n",
        "print(\"\\n--- Removing Lettuce ---\")\n",
        "GroceryList = [item for item in GroceryList if item.name != \"Lettuce\"]\n",
        "\n",
        "print(\"\\n--- Updated Grocery List ---\")\n",
        "for item in GroceryList:\n",
        "    item.display()\n",
        "\n",
        "print(\"\\nTotal Cost after removal:\", TotalSum(GroceryList))\n"
      ]
    }
  ]
}