{
  "nbformat": 4,
  "nbformat_minor": 0,
  "metadata": {
    "colab": {
      "provenance": [],
      "authorship_tag": "ABX9TyPiRRq2mj3TlcCjR5HhbHzC",
      "include_colab_link": true
    },
    "kernelspec": {
      "name": "python3",
      "display_name": "Python 3"
    },
    "language_info": {
      "name": "python"
    }
  },
  "cells": [
    {
      "cell_type": "markdown",
      "metadata": {
        "id": "view-in-github",
        "colab_type": "text"
      },
      "source": [
        "<a href=\"https://colab.research.google.com/github/Yuan-Hessed-Vasig/CPE-201L-CPE-2-B/blob/main/Midterm_Skills_Test_Code.ipynb\" target=\"_parent\"><img src=\"https://colab.research.google.com/assets/colab-badge.svg\" alt=\"Open In Colab\"/></a>"
      ]
    },
    {
      "cell_type": "code",
      "execution_count": null,
      "metadata": {
        "colab": {
          "base_uri": "https://localhost:8080/"
        },
        "id": "gKZirCaSXGQ1",
        "outputId": "17e217d6-caa7-4dba-bb27-bb19251ff897"
      },
      "outputs": [
        {
          "output_type": "stream",
          "name": "stdout",
          "text": [
            "(A)\n",
            "Display Elements: \n",
            "\n",
            "Index 0: 20\n",
            "Index 1: 21\n",
            "Index 2: 22\n",
            "Index 3: 23\n",
            "Index 4: 24\n",
            "Index 5: 25\n",
            "Index 6: 26\n",
            "Index 7: 27\n",
            "Index 8: 28\n",
            "Index 9: 29\n",
            "Index 10: 30\n",
            "Index 11: 31\n",
            "Index 12: 32\n",
            "Index 13: 33\n",
            "Index 14: 34\n",
            "Index 15: 35\n",
            "Index 16: 36\n",
            "Index 17: 37\n",
            "Index 18: 38\n",
            "Index 19: 39\n",
            "Index 20: 40\n",
            "Index 21: 41\n",
            "Index 22: 42\n",
            "Index 23: 43\n",
            "Index 24: 44\n",
            "Index 25: 45\n",
            "Index 26: 46\n",
            "Index 27: 47\n",
            "Index 28: 48\n",
            "Index 29: 49\n",
            "\n",
            "(B)\n",
            "Count the number of elements: 30\n",
            "\n",
            "(C)\n",
            "Number of Odd Elements: 15\n",
            "Number of Even Elements: 15\n"
          ]
        }
      ],
      "source": [
        "array_int = [\n",
        "    i for i in range(20,50)\n",
        "]\n",
        "\n",
        "num_odd = [\n",
        "    i for i in array_int\n",
        "      if i % 2 != 0\n",
        "]\n",
        "\n",
        "num_even = [\n",
        "    i for i in array_int\n",
        "      if i % 2 == 0\n",
        "]\n",
        "\n",
        "#A\n",
        "print(\"(A)\")\n",
        "print(\"Display Elements: \")\n",
        "print(\"\")\n",
        "for index, value in enumerate(array_int):\n",
        "    print(f\"Index {index}: {value}\")\n",
        "\n",
        "#B\n",
        "print(\"\\n(B)\")\n",
        "print(\"Count the number of elements:\", len(array_int))\n",
        "\n",
        "#C\n",
        "print(\"\\n(C)\")\n",
        "print(\"Number of Odd Elements:\", len(num_odd))\n",
        "\n",
        "print(\"Number of Even Elements:\", len(num_even))"
      ]
    },
    {
      "cell_type": "code",
      "source": [
        "def array_int()\n"
      ],
      "metadata": {
        "id": "FYTj8O3Mac-p"
      },
      "execution_count": null,
      "outputs": []
    },
    {
      "cell_type": "code",
      "source": [],
      "metadata": {
        "id": "DCC36boMXT36"
      },
      "execution_count": null,
      "outputs": []
    }
  ]
}