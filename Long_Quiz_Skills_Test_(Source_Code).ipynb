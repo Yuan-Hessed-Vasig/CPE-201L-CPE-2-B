{
  "nbformat": 4,
  "nbformat_minor": 0,
  "metadata": {
    "colab": {
      "provenance": [],
      "authorship_tag": "ABX9TyNBgNjQtB1ZFqms7KltsxDX",
      "include_colab_link": true
    },
    "kernelspec": {
      "name": "python3",
      "display_name": "Python 3"
    },
    "language_info": {
      "name": "python"
    }
  },
  "cells": [
    {
      "cell_type": "markdown",
      "metadata": {
        "id": "view-in-github",
        "colab_type": "text"
      },
      "source": [
        "<a href=\"https://colab.research.google.com/github/Yuan-Hessed-Vasig/CPE-201L-CPE-2-B/blob/main/Long_Quiz_Skills_Test_(Source_Code).ipynb\" target=\"_parent\"><img src=\"https://colab.research.google.com/assets/colab-badge.svg\" alt=\"Open In Colab\"/></a>"
      ]
    },
    {
      "cell_type": "code",
      "execution_count": 16,
      "metadata": {
        "colab": {
          "base_uri": "https://localhost:8080/"
        },
        "id": "W2MqY2_FEQxL",
        "outputId": "4b48d8a2-6b7e-4fce-cd87-2a0540935b53"
      },
      "outputs": [
        {
          "output_type": "stream",
          "name": "stdout",
          "text": [
            "\n",
            "=====================================================================================\n",
            "Enter your full name: YUAN HESSED O. VASIG\n",
            "=====================================================================================\n",
            "\n",
            "=====================================================================================\n",
            "Full name with underscore in between:\n",
            "YUAN_HESSED_O._VASIG\n",
            "=====================================================================================\n",
            "\n",
            "=====================================================================================\n",
            "Array of characters with underscores:\n",
            "['Y', 'U', 'A', 'N', '_', 'H', 'E', 'S', 'S', 'E', 'D', '_', 'O', '.', '_', 'V', 'A', 'S', 'I', 'G']\n",
            "=====================================================================================\n",
            "\n",
            "Traversing characters one by one with ASCII, Binary, and Hex values:\n",
            "+---------+-------------+---------+----------+-------+\n",
            "|   Index | Character   |   ASCII |   Binary | Hex   |\n",
            "+=========+=============+=========+==========+=======+\n",
            "|       0 | Y           |      89 |  1011001 | 59    |\n",
            "+---------+-------------+---------+----------+-------+\n",
            "|       1 | U           |      85 |  1010101 | 55    |\n",
            "+---------+-------------+---------+----------+-------+\n",
            "|       2 | A           |      65 |  1000001 | 41    |\n",
            "+---------+-------------+---------+----------+-------+\n",
            "|       3 | N           |      78 |  1001110 | 4e    |\n",
            "+---------+-------------+---------+----------+-------+\n",
            "|       4 | _           |      95 |  1011111 | 5f    |\n",
            "+---------+-------------+---------+----------+-------+\n",
            "|       5 | H           |      72 |  1001000 | 48    |\n",
            "+---------+-------------+---------+----------+-------+\n",
            "|       6 | E           |      69 |  1000101 | 45    |\n",
            "+---------+-------------+---------+----------+-------+\n",
            "|       7 | S           |      83 |  1010011 | 53    |\n",
            "+---------+-------------+---------+----------+-------+\n",
            "|       8 | S           |      83 |  1010011 | 53    |\n",
            "+---------+-------------+---------+----------+-------+\n",
            "|       9 | E           |      69 |  1000101 | 45    |\n",
            "+---------+-------------+---------+----------+-------+\n",
            "|      10 | D           |      68 |  1000100 | 44    |\n",
            "+---------+-------------+---------+----------+-------+\n",
            "|      11 | _           |      95 |  1011111 | 5f    |\n",
            "+---------+-------------+---------+----------+-------+\n",
            "|      12 | O           |      79 |  1001111 | 4f    |\n",
            "+---------+-------------+---------+----------+-------+\n",
            "|      13 | .           |      46 |   101110 | 2e    |\n",
            "+---------+-------------+---------+----------+-------+\n",
            "|      14 | _           |      95 |  1011111 | 5f    |\n",
            "+---------+-------------+---------+----------+-------+\n",
            "|      15 | V           |      86 |  1010110 | 56    |\n",
            "+---------+-------------+---------+----------+-------+\n",
            "|      16 | A           |      65 |  1000001 | 41    |\n",
            "+---------+-------------+---------+----------+-------+\n",
            "|      17 | S           |      83 |  1010011 | 53    |\n",
            "+---------+-------------+---------+----------+-------+\n",
            "|      18 | I           |      73 |  1001001 | 49    |\n",
            "+---------+-------------+---------+----------+-------+\n",
            "|      19 | G           |      71 |  1000111 | 47    |\n",
            "+---------+-------------+---------+----------+-------+\n"
          ]
        }
      ],
      "source": [
        "from tabulate import tabulate\n",
        "\n",
        "def traverse_array(full_name):\n",
        "    name_parts = full_name.split()\n",
        "    underscored_name = \"_\".join(name_parts)\n",
        "    char_array = list(underscored_name)\n",
        "\n",
        "    print(\"\\n=====================================================================================\")\n",
        "    print(\"Array of characters with underscores:\")\n",
        "    print(char_array)\n",
        "    print(\"=====================================================================================\")\n",
        "\n",
        "    print(\"\\nTraversing characters one by one with ASCII, Binary, and Hex values:\")\n",
        "    # Prepare table with index, character, ASCII, binary, and hex\n",
        "    table = [\n",
        "        (index, char, ord(char), bin(ord(char))[2:], hex(ord(char))[2:])\n",
        "        for index, char in enumerate(char_array)\n",
        "    ]\n",
        "    print(tabulate(table, headers=[\"Index\", \"Character\", \"ASCII\", \"Binary\", \"Hex\"], tablefmt=\"grid\"))\n",
        "\n",
        "def traverse_string(full_name):\n",
        "    name_parts = full_name.split()\n",
        "    underscored_name = \"_\".join(name_parts)\n",
        "\n",
        "    print(\"\\n=====================================================================================\")\n",
        "    print(\"Full name with underscore in between:\")\n",
        "    print(underscored_name)\n",
        "    print(\"=====================================================================================\")\n",
        "\n",
        "\n",
        "if __name__ == \"__main__\":\n",
        "\n",
        "    print(\"\\n=====================================================================================\")\n",
        "    name = input(\"Enter your full name: \")\n",
        "    print(\"=====================================================================================\")\n",
        "\n",
        "    traverse_string(name)\n",
        "\n",
        "    traverse_array(name)\n",
        "\n"
      ]
    },
    {
      "cell_type": "code",
      "source": [],
      "metadata": {
        "id": "fjuyx7QaErPj"
      },
      "execution_count": null,
      "outputs": []
    }
  ]
}