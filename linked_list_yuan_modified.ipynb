{
  "nbformat": 4,
  "nbformat_minor": 0,
  "metadata": {
    "colab": {
      "provenance": [],
      "authorship_tag": "ABX9TyOK9teZS4a73W49IHDD91q7",
      "include_colab_link": true
    },
    "kernelspec": {
      "name": "python3",
      "display_name": "Python 3"
    },
    "language_info": {
      "name": "python"
    }
  },
  "cells": [
    {
      "cell_type": "markdown",
      "metadata": {
        "id": "view-in-github",
        "colab_type": "text"
      },
      "source": [
        "<a href=\"https://colab.research.google.com/github/Yuan-Hessed-Vasig/CPE-201L-CPE-2-B/blob/main/linked_list_yuan_modified.ipynb\" target=\"_parent\"><img src=\"https://colab.research.google.com/assets/colab-badge.svg\" alt=\"Open In Colab\"/></a>"
      ]
    },
    {
      "cell_type": "code",
      "execution_count": 20,
      "metadata": {
        "colab": {
          "base_uri": "https://localhost:8080/"
        },
        "id": "NB2nIUNegAou",
        "outputId": "5be657dd-202c-4697-c1c3-2039f8015523"
      },
      "outputs": [
        {
          "output_type": "stream",
          "name": "stdout",
          "text": [
            "Original list:\n",
            "1 2 3 4 5 \n",
            "After popping:\n",
            "1 2 \n",
            "Length after popping:\n",
            "2\n"
          ]
        }
      ],
      "source": [
        "# Node class\n",
        "class Node:\n",
        "    # Function to initialize the node object\n",
        "    def __init__(self, data):\n",
        "        self.data = data  # Assign data\n",
        "        self.next = None  # Initialize next as null\n",
        "\n",
        "\n",
        "# Linked List class\n",
        "class LinkedList:\n",
        "    def __init__(self):\n",
        "        self.head = None\n",
        "\n",
        "    def print_data(self):\n",
        "        current = self.head\n",
        "        while current:\n",
        "            print(current.data, end=\" \")\n",
        "            current = current.next\n",
        "        print()\n",
        "\n",
        "    def pop(self):\n",
        "        if self.head is None:\n",
        "            print(\"List is empty, nothing to pop.\")\n",
        "            return\n",
        "\n",
        "        if self.head.next is None:\n",
        "            self.head = None\n",
        "            return\n",
        "\n",
        "        current = self.head\n",
        "        while current.next.next:\n",
        "            current = current.next\n",
        "        current.next = None\n",
        "\n",
        "    def push(self, new_data):\n",
        "        new_node = Node(new_data)\n",
        "        new_node.next = self.head\n",
        "        self.head = new_node\n",
        "\n",
        "\n",
        "    def len_checker(self):\n",
        "        count = 0\n",
        "        current = self.head\n",
        "        while current:\n",
        "            count += 1\n",
        "            current = current.next\n",
        "\n",
        "        if count <= 0:\n",
        "            print (\"Stack is empty\")\n",
        "        else:\n",
        "            print (count)\n",
        "\n",
        "\n",
        "if __name__ == '__main__':\n",
        "\n",
        "    llist = LinkedList()\n",
        "\n",
        "\n",
        "    llist.head = Node(1)\n",
        "    second = Node(2)\n",
        "    third = Node(3)\n",
        "    fourth = Node(4)\n",
        "    fifth = Node(5)\n",
        "\n",
        "\n",
        "    llist.head.next = second\n",
        "    second.next = third\n",
        "    third.next = fourth\n",
        "    fourth.next = fifth\n",
        "\n",
        "\n",
        "    print(\"Original list:\")\n",
        "    llist.print_data()\n",
        "\n",
        "    llist.pop()\n",
        "    llist.pop()\n",
        "    llist.pop()\n",
        "\n",
        "\n",
        "    print(\"After popping:\")\n",
        "    llist.print_data()\n",
        "\n",
        "    print(\"Length after popping:\")\n",
        "    llist.len_checker()"
      ]
    },
    {
      "cell_type": "markdown",
      "metadata": {
        "id": "542d6def"
      },
      "source": [
        "To fix the error, please restart the kernel by going to `Runtime > Restart runtime` in the Colab menu. This will clear the `input` variable that is shadowing the built-in `input()` function."
      ]
    }
  ]
}