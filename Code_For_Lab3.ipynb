{
  "nbformat": 4,
  "nbformat_minor": 0,
  "metadata": {
    "colab": {
      "provenance": [],
      "authorship_tag": "ABX9TyPLCvLcwvV5DAWh7saUFx2C",
      "include_colab_link": true
    },
    "kernelspec": {
      "name": "python3",
      "display_name": "Python 3"
    },
    "language_info": {
      "name": "python"
    }
  },
  "cells": [
    {
      "cell_type": "markdown",
      "metadata": {
        "id": "view-in-github",
        "colab_type": "text"
      },
      "source": [
        "<a href=\"https://colab.research.google.com/github/Yuan-Hessed-Vasig/CPE-201L-CPE-2-B/blob/main/Code_For_Lab3.ipynb\" target=\"_parent\"><img src=\"https://colab.research.google.com/assets/colab-badge.svg\" alt=\"Open In Colab\"/></a>"
      ]
    },
    {
      "cell_type": "code",
      "source": [
        "scores = [26, 49, 98, 87, 62, 75]\n",
        "\n",
        "sum_even = 0\n",
        "index = 0\n",
        "\n",
        "print(scores)\n",
        "\n",
        "while index < len(scores):\n",
        "    if scores[index] % 2 == 0:\n",
        "        sum_even += scores[index]\n",
        "        print(\"Even number found:\", scores[index])\n",
        "    index += 1\n",
        "\n",
        "print(\"Sum of even numbers:\", sum_even)\n"
      ],
      "metadata": {
        "colab": {
          "base_uri": "https://localhost:8080/"
        },
        "id": "CoUvLwvTvl4G",
        "outputId": "98464d9d-ed95-41db-882a-0f16c4e03326"
      },
      "execution_count": null,
      "outputs": [
        {
          "output_type": "stream",
          "name": "stdout",
          "text": [
            "[75, 62, 87, 98, 49, 26]\n",
            "Even number found: 26\n",
            "Even number found: 98\n",
            "Even number found: 62\n",
            "Sum of even numbers: 186\n"
          ]
        }
      ]
    },
    {
      "cell_type": "code",
      "execution_count": null,
      "metadata": {
        "id": "JNIGZdfnuzY9"
      },
      "outputs": [],
      "source": []
    }
  ]
}